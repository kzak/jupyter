{
 "cells": [
  {
   "cell_type": "markdown",
   "metadata": {},
   "source": [
    "# Edit distance computation\n",
    "\n",
    "- A sample of computing edit distance.\n",
    "- In this sample, Levenshtein's setting is adopted. (Cost of deletion and insertion is 1, substitution's is 2)\n",
    "\n",
    "```"
   ]
  },
  {
   "cell_type": "code",
   "execution_count": 8,
   "metadata": {},
   "outputs": [],
   "source": [
    "# Cost functions\n",
    "\n",
    "# In Levenshtein's settings, not functions, but constants.\n",
    "del_cost = 1\n",
    "ins_cost = 1\n",
    "sub_cost = 2"
   ]
  },
  {
   "cell_type": "code",
   "execution_count": 5,
   "metadata": {},
   "outputs": [
    {
     "data": {
      "text/plain": [
       "8"
      ]
     },
     "execution_count": 5,
     "metadata": {},
     "output_type": "execute_result"
    }
   ],
   "source": [
    "# Edit distance function\n",
    "\n",
    "def edit_distance(source, target):\n",
    "    n = len(source)\n",
    "    m = len(target)\n",
    "    \n",
    "    d = {(0,0): 0}\n",
    "    \n",
    "    for i in range(1, n+1):\n",
    "        d[(i,0)] = d[(i-1,0)] + del_cost\n",
    "        \n",
    "    for j in range(1, m+1):\n",
    "        d[(0,j)] = d[(0,j-1)] + ins_cost\n",
    "        \n",
    "    for i in range(1, n+1):\n",
    "        for j in range(1, m+1):\n",
    "            d[(i,j)] = min([\n",
    "                d[(i-1,j)] + del_cost,\n",
    "                d[(i-1,j-1)] + (0 if source[i-1] == target[j-1] else sub_cost),\n",
    "                d[(i,j-1)] + ins_cost\n",
    "            ])\n",
    "\n",
    "    return d[(n,m)]\n",
    "\n",
    "edit_distance('intention', 'execution')"
   ]
  }
 ],
 "metadata": {
  "kernelspec": {
   "display_name": "Python 3",
   "language": "python",
   "name": "python3"
  },
  "language_info": {
   "codemirror_mode": {
    "name": "ipython",
    "version": 3
   },
   "file_extension": ".py",
   "mimetype": "text/x-python",
   "name": "python",
   "nbconvert_exporter": "python",
   "pygments_lexer": "ipython3",
   "version": "3.6.6"
  }
 },
 "nbformat": 4,
 "nbformat_minor": 4
}
