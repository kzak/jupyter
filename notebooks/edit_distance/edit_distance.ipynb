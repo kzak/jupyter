{
 "cells": [
  {
   "cell_type": "markdown",
   "metadata": {},
   "source": [
    "## Edit distance computation sample\n",
    "\n",
    "- A sample of computing edit distance.\n",
    "- In this sample, Levenshtein's setting is adopted. (Cost of deletion and insertion is 1, substitution's is 2)\n",
    "\n",
    "## References\n",
    "- Dan Jurafsky, James H. Martin, [\"Speech and Language Processing (3rd ed. draft)\"](https://web.stanford.edu/~jurafsky/slp3/), 2019.\n"
   ]
  },
  {
   "cell_type": "code",
   "execution_count": 1,
   "metadata": {},
   "outputs": [],
   "source": [
    "# Cost functions\n",
    "\n",
    "# In Levenshtein's settings, not functions, but constants.\n",
    "del_cost = 1\n",
    "ins_cost = 1\n",
    "sub_cost = 2"
   ]
  },
  {
   "cell_type": "markdown",
   "metadata": {},
   "source": [
    "A visual image of computation between 'intention' and 'execution' is below.\n",
    "\n",
    "```\n",
    "| Src:i \\\\ Tgt:j | \\# | e | x | e  | c  | u  | t  | i  | o  | n  |\n",
    "|----------------|----|---|---|----|----|----|----|----|----|----|\n",
    "| \\#             | 0  | 1 | 2 | 3  | 4  | 5  | 6  | 7  | 8  | 9  |\n",
    "| i              | 1  | 2 | 3 | 4  | 5  | 6  | 7  | 6  | 7  | 8  |\n",
    "| n              | 2  | 3 | 4 | 5  | 6  | 7  | 8  | 7  | 8  | 7  |\n",
    "| t              | 3  | 4 | 5 | 6  | 7  | 8  | 7  | 8  | 9  | 8  |\n",
    "| e              | 4  | 3 | 4 | 5  | 6  | 7  | 8  | 9  | 10 | 9  |\n",
    "| n              | 5  | 4 | 5 | 6  | 7  | 8  | 9  | 10 | 11 | 10 |\n",
    "| t              | 6  | 5 | 6 | 7  | 8  | 9  | 8  | 9  | 10 | 11 |\n",
    "| i              | 7  | 6 | 7 | 8  | 9  | 10 | 9  | 8  | 9  | 10 |\n",
    "| o              | 8  | 7 | 8 | 9  | 10 | 11 | 10 | 9  | 8  | 9  |\n",
    "| n              | 9  | 8 | 9 | 10 | 11 | 12 | 11 | 10 | 9  | 8  |\n",
    "```"
   ]
  },
  {
   "cell_type": "code",
   "execution_count": 2,
   "metadata": {},
   "outputs": [
    {
     "data": {
      "text/plain": [
       "8"
      ]
     },
     "execution_count": 2,
     "metadata": {},
     "output_type": "execute_result"
    }
   ],
   "source": [
    "# Edit distance function\n",
    "\n",
    "def edit_distance(source, target):\n",
    "    n = len(source)\n",
    "    m = len(target)\n",
    "    \n",
    "    d = {(0,0): 0}\n",
    "    \n",
    "    for i in range(1, n+1):\n",
    "        d[(i,0)] = d[(i-1,0)] + del_cost\n",
    "        \n",
    "    for j in range(1, m+1):\n",
    "        d[(0,j)] = d[(0,j-1)] + ins_cost\n",
    "        \n",
    "    for i in range(1, n+1):\n",
    "        for j in range(1, m+1):\n",
    "            d[(i,j)] = min([\n",
    "                d[(i-1,j)] + del_cost,\n",
    "                d[(i-1,j-1)] + (0 if source[i-1] == target[j-1] else sub_cost),\n",
    "                d[(i,j-1)] + ins_cost\n",
    "            ])\n",
    "\n",
    "    return d[(n,m)]\n",
    "\n",
    "edit_distance('intention', 'execution')"
   ]
  }
 ],
 "metadata": {
  "kernelspec": {
   "display_name": "Python 3",
   "language": "python",
   "name": "python3"
  },
  "language_info": {
   "codemirror_mode": {
    "name": "ipython",
    "version": 3
   },
   "file_extension": ".py",
   "mimetype": "text/x-python",
   "name": "python",
   "nbconvert_exporter": "python",
   "pygments_lexer": "ipython3",
   "version": "3.6.6"
  }
 },
 "nbformat": 4,
 "nbformat_minor": 4
}
