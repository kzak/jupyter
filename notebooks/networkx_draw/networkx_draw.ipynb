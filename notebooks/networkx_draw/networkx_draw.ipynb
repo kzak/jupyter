{
 "cells": [
  {
   "cell_type": "code",
   "execution_count": 1,
   "metadata": {},
   "outputs": [],
   "source": [
    "# Networkx drawing sample"
   ]
  },
  {
   "cell_type": "code",
   "execution_count": null,
   "metadata": {},
   "outputs": [],
   "source": [
    "# Import modules\n",
    "\n",
    "import networkx as nx\n",
    "\n",
    "import matplotlib\n",
    "import matplotlib.pyplot as plt"
   ]
  },
  {
   "cell_type": "code",
   "execution_count": null,
   "metadata": {},
   "outputs": [],
   "source": [
    "# Generate a graph\n",
    "\n",
    "# Parameters for scale_free_graph\n",
    "alpha = 0.4\n",
    "beta  = 0.4\n",
    "gamma = 1.0 - (alpha+beta)\n",
    "\n",
    "g = nx.scale_free_graph(\n",
    "    200,\n",
    "    alpha=alpha,\n",
    "    beta=beta,\n",
    "    gamma=gamma\n",
    ")\n",
    "\n",
    "in_degrees = [g.in_degree(n) for n in g.nodes]\n",
    "\n",
    "nx.draw(g)"
   ]
  },
  {
   "cell_type": "code",
   "execution_count": null,
   "metadata": {},
   "outputs": [],
   "source": [
    "# Layout graph\n",
    "pos = nx.kamada_kawai_layout(g)\n",
    "\n",
    "# Configure matplotlib\n",
    "\n",
    "# Figure size and layout\n",
    "plt.figure(figsize=(15, 10))\n",
    "plt.tight_layout()\n",
    "\n",
    "# Splines\n",
    "for p in ['top', 'right', 'bottom', 'left']:\n",
    "    plt.gca().spines[p].set_visible(False)\n",
    "\n",
    "# Colorbar\n",
    "sm = plt.cm.ScalarMappable(\n",
    "    cmap=plt.cm.jet,\n",
    "    norm=plt.Normalize(\n",
    "        vmin=min(in_degrees),\n",
    "        vmax=max(in_degrees)\n",
    "    )\n",
    ")\n",
    "plt.colorbar(sm, shrink=0.3)\n",
    "\n",
    "# Draw nodes\n",
    "nx.draw_networkx_nodes(\n",
    "    g,\n",
    "    pos,\n",
    "    node_size=[(d/max(in_degrees))*100**2+50 for d in in_degrees],\n",
    "    node_color=in_degrees,\n",
    "    cmap=plt.cm.jet,\n",
    "    vmin=min(in_degrees),\n",
    "    vmax=max(in_degrees),\n",
    "    linewidths=1,\n",
    "    edgecolors='gray',\n",
    "    alpha=0.5\n",
    ")\n",
    "\n",
    "# Draw edges\n",
    "nx.draw_networkx_edges(\n",
    "    g,\n",
    "    pos,\n",
    "    width=0.5,\n",
    "    edge_color='gray',\n",
    "    alpha=0.5,\n",
    ")\n",
    "\n",
    "plt.show()"
   ]
  }
 ],
 "metadata": {
  "kernelspec": {
   "display_name": "Python 3",
   "language": "python",
   "name": "python3"
  },
  "language_info": {
   "codemirror_mode": {
    "name": "ipython",
    "version": 3
   },
   "file_extension": ".py",
   "mimetype": "text/x-python",
   "name": "python",
   "nbconvert_exporter": "python",
   "pygments_lexer": "ipython3",
   "version": "3.6.6"
  }
 },
 "nbformat": 4,
 "nbformat_minor": 4
}
